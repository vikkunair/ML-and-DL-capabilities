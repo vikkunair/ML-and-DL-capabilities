{
  "nbformat": 4,
  "nbformat_minor": 0,
  "metadata": {
    "colab": {
      "name": "Speech_Recognition.ipynb",
      "provenance": [],
      "collapsed_sections": [],
      "machine_shape": "hm"
    },
    "kernelspec": {
      "name": "python3",
      "display_name": "Python 3"
    },
    "language_info": {
      "name": "python"
    }
  },
  "cells": [
    {
      "cell_type": "markdown",
      "metadata": {
        "id": "p19RzwRtRF6x"
      },
      "source": [
        "# Installing all dependencies"
      ]
    },
    {
      "cell_type": "code",
      "metadata": {
        "colab": {
          "base_uri": "https://localhost:8080/"
        },
        "id": "n-BCVTLszjxB",
        "outputId": "591be231-5fca-4ecb-9ddb-f26524bb6565"
      },
      "source": [
        "!pip install pydub\n",
        "!sudo apt-get install p7zip-full"
      ],
      "execution_count": null,
      "outputs": [
        {
          "output_type": "stream",
          "text": [
            "Requirement already satisfied: pydub in /usr/local/lib/python3.7/dist-packages (0.25.1)\n",
            "Reading package lists... Done\n",
            "Building dependency tree       \n",
            "Reading state information... Done\n",
            "p7zip-full is already the newest version (16.02+dfsg-6).\n",
            "0 upgraded, 0 newly installed, 0 to remove and 39 not upgraded.\n"
          ],
          "name": "stdout"
        }
      ]
    },
    {
      "cell_type": "markdown",
      "metadata": {
        "id": "4q1K_lhZRK-Z"
      },
      "source": [
        "# Required Imports"
      ]
    },
    {
      "cell_type": "code",
      "metadata": {
        "id": "RxknJEq3y77b"
      },
      "source": [
        "from pydub import AudioSegment\n",
        "import wave\n",
        "import contextlib\n",
        "import glob\n",
        "import shutil\n",
        "import librosa\n",
        "import concurrent.futures\n",
        "import numpy as np\n",
        "import pickle\n",
        "import os"
      ],
      "execution_count": null,
      "outputs": []
    },
    {
      "cell_type": "markdown",
      "metadata": {
        "id": "tnmMq7VGRS6G"
      },
      "source": [
        "## Testing contextlib library and a function written to read an audio to get info for frames, rate and duration of a audio file"
      ]
    },
    {
      "cell_type": "code",
      "metadata": {
        "id": "zqo5HaLs1Gk1"
      },
      "source": [
        "def audio_file_props(path):\n",
        "  with contextlib.closing(wave.open(path,'r')) as f:\n",
        "      frames = f.getnframes()\n",
        "      rate = f.getframerate()\n",
        "      duration = frames / float(rate)\n",
        "  return frames,rate,duration"
      ],
      "execution_count": null,
      "outputs": []
    },
    {
      "cell_type": "code",
      "metadata": {
        "id": "2Po4vuQ-QpQl"
      },
      "source": [
        "frames,rate,duration = audio_file_props(\"/content/sample_data/120_0.1_0.wav\")\n",
        "print(frames)\n",
        "print(rate)\n",
        "print(duration)"
      ],
      "execution_count": null,
      "outputs": []
    },
    {
      "cell_type": "markdown",
      "metadata": {
        "id": "qWkt3D8mRpLx"
      },
      "source": [
        "## Testing Pydub.Audiosegment method to read an audio file"
      ]
    },
    {
      "cell_type": "code",
      "metadata": {
        "id": "bdXItOoFQs_Y"
      },
      "source": [
        "newAudio = AudioSegment.from_wav(\"/content/sample_data/120_0.1_0.wav\")"
      ],
      "execution_count": null,
      "outputs": []
    },
    {
      "cell_type": "markdown",
      "metadata": {
        "id": "vNttpoExR67T"
      },
      "source": [
        "## Function to convert an existing audio file to 1 second, clips if over 1 sec and adds silent frames if under one second"
      ]
    },
    {
      "cell_type": "code",
      "metadata": {
        "id": "SvRQPiG8zo5J"
      },
      "source": [
        "def modify_audio(path,new_path):\n",
        "  frames,rate,duration = audio_file_props(path)\n",
        "  newAudio = AudioSegment.from_wav(path)\n",
        "\n",
        "  if duration > 1:\n",
        "      final_audio = newAudio[0:1000]\n",
        "\n",
        "  elif duration < 1:\n",
        "    missing = (1- duration)*1000\n",
        "    missing_segment = AudioSegment.silent(duration=missing)\n",
        "    final_audio = newAudio + missing_segment\n",
        "  \n",
        "  elif duration == 1:\n",
        "    final_audio = newAudio\n",
        "  \n",
        "  final_audio.export(new_path, format=\"wav\")\n",
        "\n",
        "  return 'Done'\n"
      ],
      "execution_count": null,
      "outputs": []
    },
    {
      "cell_type": "markdown",
      "metadata": {
        "id": "d8kI8ckiSO-C"
      },
      "source": [
        "## This step is performed after uploading all audio files in zip format. This step involves creating a folder for each label to be extracted and stored"
      ]
    },
    {
      "cell_type": "code",
      "metadata": {
        "id": "Yn26IPoTEcQq"
      },
      "source": [
        "import os\n",
        "folders = [\"False\",\"await\",\"else\",\"import\",\"pass\",\"None\",\"break\",\"except\",\"in\",\"raise\",\"True\",\n",
        "            \"class\",\"finally\",\"is\",\"return\",\"and\",\"continue\",\"for\",\"lambda\",\"try\",\"as\",\"def\",\n",
        "            \"from\",\"nonlocal\",\"while\",\"assert\",\"del\",\"global\",\"not\",\"with\",\"async\",\"elif\",\"if\",\"or\",\"yield\"]\n",
        "\n",
        "for folder in folders:\n",
        "  os.mkdir(\"/content/\"+folder)"
      ],
      "execution_count": null,
      "outputs": []
    },
    {
      "cell_type": "markdown",
      "metadata": {
        "id": "Can9EkAnSpXi"
      },
      "source": [
        "## This step is extracting of audio files from zip files"
      ]
    },
    {
      "cell_type": "code",
      "metadata": {
        "id": "IjKz-wGIEG3y"
      },
      "source": [
        "# \"False\",\"await\",\"else\",\"import\",\"pass\",\"None\",\"break\",\"except\",\"in\",\"raise\",\"True\",\n",
        "# \"class\",\"finally\",\"is\",\"return\",\"and\",\"continue\",\"for\",\"lambda\",\"try\",\"as\",\"def\",\n",
        "# \"from\",\"nonlocal\",\"while\",\"assert\",\"del\",\"global\",\"not\",\"with\",\"async\",\"elif\",\"if\",\"or\",\"yield\"\n",
        "\n",
        "\n",
        "!7z x /content/drive/MyDrive/Dissertation_Datasets/False.zip -o/content/False/\n",
        "!7z x /content/drive/MyDrive/Dissertation_Datasets/await.zip -o/content/await/\n",
        "!7z x /content/drive/MyDrive/Dissertation_Datasets/else.zip -o/content/else/\n",
        "!7z x /content/drive/MyDrive/Dissertation_Datasets/import.zip -o/content/import/\n",
        "!7z x /content/drive/MyDrive/Dissertation_Datasets/pass.zip -o/content/pass/\n",
        "!7z x /content/drive/MyDrive/Dissertation_Datasets/None.zip -o/content/None/\n",
        "!7z x /content/drive/MyDrive/Dissertation_Datasets/break.zip -o/content/break/\n",
        "!7z x /content/drive/MyDrive/Dissertation_Datasets/except.zip -o/content/except/\n",
        "!7z x /content/drive/MyDrive/Dissertation_Datasets/in.zip -o/content/in/\n",
        "!7z x /content/drive/MyDrive/Dissertation_Datasets/raise.zip -o/content/raise/\n",
        "!7z x /content/drive/MyDrive/Dissertation_Datasets/True.zip -o/content/True/\n",
        "\n",
        "\n",
        "!7z x /content/drive/MyDrive/Dissertation_Datasets/class.zip -o/content/class/\n",
        "!7z x /content/drive/MyDrive/Dissertation_Datasets/finally.zip -o/content/finally/\n",
        "!7z x /content/drive/MyDrive/Dissertation_Datasets/is.zip -o/content/is/\n",
        "!7z x /content/drive/MyDrive/Dissertation_Datasets/return.zip -o/content/return/\n",
        "!7z x /content/drive/MyDrive/Dissertation_Datasets/and.zip -o/content/and/\n",
        "!7z x /content/drive/MyDrive/Dissertation_Datasets/continue.zip -o/content/continue/\n",
        "!7z x /content/drive/MyDrive/Dissertation_Datasets/for.zip -o/content/for/\n",
        "!7z x /content/drive/MyDrive/Dissertation_Datasets/lambda.zip -o/content/lambda/\n",
        "!7z x /content/drive/MyDrive/Dissertation_Datasets/try.zip -o/content/try/\n",
        "!7z x /content/drive/MyDrive/Dissertation_Datasets/as.zip -o/content/as/\n",
        "!7z x /content/drive/MyDrive/Dissertation_Datasets/def.zip -o/content/def/\n",
        "\n",
        "\n",
        "\n",
        "!7z x /content/drive/MyDrive/Dissertation_Datasets/from.zip -o/content/from/\n",
        "!7z x /content/drive/MyDrive/Dissertation_Datasets/nonlocal.zip -o/content/nonlocal/\n",
        "!7z x /content/drive/MyDrive/Dissertation_Datasets/while.zip -o/content/while/\n",
        "!7z x /content/drive/MyDrive/Dissertation_Datasets/assert.zip -o/content/assert/\n",
        "!7z x /content/drive/MyDrive/Dissertation_Datasets/del.zip -o/content/del/\n",
        "!7z x /content/drive/MyDrive/Dissertation_Datasets/global.zip -o/content/global/\n",
        "!7z x /content/drive/MyDrive/Dissertation_Datasets/not.zip -o/content/not/\n",
        "!7z x /content/drive/MyDrive/Dissertation_Datasets/with.zip -o/content/with/\n",
        "!7z x /content/drive/MyDrive/Dissertation_Datasets/async.zip -o/content/async/\n",
        "!7z x /content/drive/MyDrive/Dissertation_Datasets/elif.zip -o/content/elif/\n",
        "!7z x /content/drive/MyDrive/Dissertation_Datasets/if.zip -o/content/if/\n",
        "!7z x /content/drive/MyDrive/Dissertation_Datasets/or.zip -o/content/or/\n",
        "!7z x /content/drive/MyDrive/Dissertation_Datasets/yield.zip -o/content/yield/"
      ],
      "execution_count": null,
      "outputs": []
    },
    {
      "cell_type": "markdown",
      "metadata": {
        "id": "GOFkp8mnS7XU"
      },
      "source": [
        "##Create new folders for the audio files to be modified and stored"
      ]
    },
    {
      "cell_type": "code",
      "metadata": {
        "id": "uyi0TzbjJcGg"
      },
      "source": [
        "for folder in folders:\n",
        "  #shutil.rmtree(\"/content/sample_data/\"+folder)\n",
        "  os.mkdir(\"/content/sample_data/\"+folder)\n",
        "  "
      ],
      "execution_count": null,
      "outputs": []
    },
    {
      "cell_type": "markdown",
      "metadata": {
        "id": "nHawVpiWTH-o"
      },
      "source": [
        "## In this step the modify_audio method is called and the files are stored in the corresponding label folders"
      ]
    },
    {
      "cell_type": "code",
      "metadata": {
        "id": "MUcxjhyDNKuI"
      },
      "source": [
        "for folder in folders:\n",
        "  current_command_files = glob.glob(\"/content/\"+\"/\"+folder+\"/\"+folder+\"/*.wav\")\n",
        "\n",
        "  for file in current_command_files:\n",
        "    _,_,duration = audio_file_props(file)\n",
        "    if duration <= 1.5:\n",
        "      modify_audio(file,\"/content/sample_data/\"+folder+\"/\"+file.split('/')[-1])"
      ],
      "execution_count": null,
      "outputs": []
    },
    {
      "cell_type": "code",
      "metadata": {
        "id": "O70Jh9ATJkX7"
      },
      "source": [
        "for folder in folders:\n",
        "  shutil.rmtree(\"/content/\"+folder)"
      ],
      "execution_count": null,
      "outputs": []
    },
    {
      "cell_type": "markdown",
      "metadata": {
        "id": "wo4aMhIYBETo"
      },
      "source": [
        "## Resampling audio Files"
      ]
    },
    {
      "cell_type": "code",
      "metadata": {
        "id": "Z6Usgjnso1IN"
      },
      "source": [
        "import IPython.display as ipd\n",
        "import matplotlib.pyplot as plt\n",
        "import numpy as np\n",
        "from scipy.io import wavfile"
      ],
      "execution_count": null,
      "outputs": []
    },
    {
      "cell_type": "code",
      "metadata": {
        "id": "_F2h9ArFo7lr"
      },
      "source": [
        "duration_of_recordings=[]\n",
        "for folder in folders:\n",
        "    waves = [f for f in os.listdir(\"/content/sample_data/\"+folder+\"/\") if f.endswith('.wav')]\n",
        "    for wav in waves:\n",
        "        _,_,duration = audio_file_props(\"/content/sample_data/\"+folder+\"/\"+wav)\n",
        "        duration_of_recordings.append(duration)"
      ],
      "execution_count": null,
      "outputs": []
    },
    {
      "cell_type": "code",
      "metadata": {
        "id": "Gpy7WtDvUcZP",
        "colab": {
          "base_uri": "https://localhost:8080/",
          "height": 382
        },
        "outputId": "36412439-b48d-4033-b866-f8c36accf8fb"
      },
      "source": [
        "plt.hist(np.array(duration_of_recordings))"
      ],
      "execution_count": null,
      "outputs": [
        {
          "output_type": "execute_result",
          "data": {
            "text/plain": [
              "(array([  8946.,      0.,      0.,  16767.,      0.,      0.,  10530.,\n",
              "             0.,      0., 379476.]),\n",
              " array([0.99986395, 0.99987755, 0.99989116, 0.99990476, 0.99991837,\n",
              "        0.99993197, 0.99994558, 0.99995918, 0.99997279, 0.99998639,\n",
              "        1.        ]),\n",
              " <a list of 10 Patch objects>)"
            ]
          },
          "metadata": {
            "tags": []
          },
          "execution_count": 14
        },
        {
          "output_type": "display_data",
          "data": {
            "image/png": "[encoded data removed]",
            "text/plain": [
              "<Figure size 432x288 with 1 Axes>"
            ]
          },
          "metadata": {
            "tags": [],
            "needs_background": "light"
          }
        }
      ]
    },
    {
      "cell_type": "code",
      "metadata": {
        "id": "491RTukGldAo",
        "colab": {
          "base_uri": "https://localhost:8080/"
        },
        "outputId": "e217e618-71e1-4332-fddc-54b9bde62aba"
      },
      "source": [
        "train_audio_path = \"/content/sample_data/\"\n",
        "\n",
        "folders = [\"False\",\"await\",\"else\",\"import\",\"pass\",\"None\",\"break\",\"except\",\"in\",\"raise\",\"True\",\n",
        "            \"class\",\"finally\",\"is\",\"return\",\"and\",\"continue\",\"for\",\"lambda\",\"try\",\"as\",\"def\",\n",
        "            \"from\",\"nonlocal\",\"while\",\"assert\",\"del\",\"global\",\"not\",\"with\",\"async\",\"elif\",\"if\",\"or\",\"yield\"]\n",
        "\n",
        "os.mkdir(train_audio_path + \"/backup_command_level\")\n",
        "\n",
        "\n",
        "all_wave = []\n",
        "all_label = []\n",
        "all_filenames = []\n",
        "\n",
        "\n",
        "for folder in folders:\n",
        "    current_label_waves = []\n",
        "    current_label_filenames = []\n",
        "    waves = [f for f in os.listdir(train_audio_path + folder+\"/\") if f.endswith('.wav')]\n",
        "\n",
        "    for wav in waves:\n",
        "        _,_,duration = audio_file_props(train_audio_path + folder + '/' + wav)\n",
        "        if duration == 1:\n",
        "          samples, sample_rate = librosa.load(train_audio_path + folder + '/' + wav, sr = 16000)\n",
        "          samples = librosa.resample(samples, sample_rate, 8000)\n",
        "          if(len(samples)== 8000) : \n",
        "              all_wave.append(samples)\n",
        "              all_label.append(folder)\n",
        "\n",
        "              #Command level saving backup\n",
        "              current_label_waves.append(samples)\n",
        "              current_label_filenames.append(wav)\n",
        "    with open(train_audio_path + \"/backup_command_level/\"+folder, 'wb') as f:\n",
        "      pickle.dump({\"current_label_waves\":current_label_waves,\"current_label_filenames\":current_label_filenames}, f)\n",
        "    print(folder)"
      ],
      "execution_count": null,
      "outputs": [
        {
          "output_type": "stream",
          "text": [
            "False\n",
            "await\n",
            "else\n",
            "import\n",
            "pass\n",
            "None\n",
            "break\n",
            "except\n",
            "in\n",
            "raise\n",
            "True\n",
            "class\n",
            "finally\n",
            "is\n",
            "return\n",
            "and\n",
            "continue\n",
            "for\n",
            "lambda\n",
            "try\n",
            "as\n",
            "def\n",
            "from\n",
            "nonlocal\n",
            "while\n",
            "assert\n",
            "del\n",
            "global\n",
            "not\n",
            "with\n",
            "async\n",
            "elif\n",
            "if\n",
            "or\n",
            "yield\n"
          ],
          "name": "stdout"
        }
      ]
    },
    {
      "cell_type": "code",
      "metadata": {
        "id": "2omzP_S_n9mm"
      },
      "source": [
        "# with open('/content/training_samples', 'wb') as f:\n",
        "#     pickle.dump({\"all_wave\":all_wave,\"all_label\":all_label}, f)"
      ],
      "execution_count": null,
      "outputs": []
    },
    {
      "cell_type": "code",
      "metadata": {
        "colab": {
          "base_uri": "https://localhost:8080/"
        },
        "id": "3o9M4JkGrXdp",
        "outputId": "84dae608-3fe9-467e-8d82-dfcb9806461c"
      },
      "source": [
        "all_wave = []\n",
        "all_label = []\n",
        "\n",
        "folders = [\"False\",\"await\",\"else\",\"import\",\"pass\",\"None\",\"break\",\"except\",\"in\",\"raise\",\"True\",\n",
        "            \"class\",\"finally\",\"is\",\"return\",\"and\",\"continue\",\"for\",\"lambda\",\"try\",\"as\",\"def\",\n",
        "            \"from\",\"nonlocal\",\"while\",\"assert\",\"del\",\"global\",\"not\",\"with\",\"async\",\"elif\",\"if\",\"or\",\"yield\"]\n",
        "\n",
        "for folder in folders:\n",
        "  print(folder)\n",
        "  with open('/content/sample_data/backup_command_level/'+folder, 'rb') as f:\n",
        "      pickle_obj_dict = pickle.load(f)\n",
        "      current_label_waves = pickle_obj_dict['current_label_waves']\n",
        "      current_label_filenames = pickle_obj_dict['current_label_filenames']\n",
        "\n",
        "      temp_current_wave = []\n",
        "      for filename in current_label_filenames:\n",
        "        if int(filename.split('_')[2].split('.')[0]) < 50:\n",
        "\n",
        "          index = current_label_filenames.index(filename)\n",
        "          temp_current_wave.append(current_label_waves[index])\n",
        "\n",
        "      all_wave += temp_current_wave\n",
        "      all_label += ([folder] * len(temp_current_wave))\n"
      ],
      "execution_count": null,
      "outputs": [
        {
          "output_type": "stream",
          "text": [
            "False\n",
            "await\n",
            "else\n",
            "import\n",
            "pass\n",
            "None\n",
            "break\n",
            "except\n",
            "in\n",
            "raise\n",
            "True\n",
            "class\n",
            "finally\n",
            "is\n",
            "return\n",
            "and\n",
            "continue\n",
            "for\n",
            "lambda\n",
            "try\n",
            "as\n",
            "def\n",
            "from\n",
            "nonlocal\n",
            "while\n",
            "assert\n",
            "del\n",
            "global\n",
            "not\n",
            "with\n",
            "async\n",
            "elif\n",
            "if\n",
            "or\n",
            "yield\n"
          ],
          "name": "stdout"
        }
      ]
    },
    {
      "cell_type": "code",
      "metadata": {
        "id": "HTAVraJayYv5",
        "colab": {
          "base_uri": "https://localhost:8080/"
        },
        "outputId": "d451157b-7cc0-464a-824a-d969a7dd20d1"
      },
      "source": [
        "len(all_label)"
      ],
      "execution_count": null,
      "outputs": [
        {
          "output_type": "execute_result",
          "data": {
            "text/plain": [
              "200898"
            ]
          },
          "metadata": {
            "tags": []
          },
          "execution_count": 4
        }
      ]
    },
    {
      "cell_type": "code",
      "metadata": {
        "id": "t3z_cs7YzCTE",
        "colab": {
          "base_uri": "https://localhost:8080/",
          "height": 317
        },
        "outputId": "97682dd3-c649-42e5-b1f9-b19f3b26d2cd"
      },
      "source": [
        "import pandas as pd\n",
        "df = pd.DataFrame({'freq': all_label})\n",
        "df['freq'].value_counts().plot(kind='bar')"
      ],
      "execution_count": null,
      "outputs": [
        {
          "output_type": "execute_result",
          "data": {
            "text/plain": [
              "<matplotlib.axes._subplots.AxesSubplot at 0x7f326becdc90>"
            ]
          },
          "metadata": {
            "tags": []
          },
          "execution_count": 5
        },
        {
          "output_type": "display_data",
          "data": {
            "image/png": "[encoded data removed]",
            "text/plain": [
              "<Figure size 432x288 with 1 Axes>"
            ]
          },
          "metadata": {
            "tags": [],
            "needs_background": "light"
          }
        }
      ]
    },
    {
      "cell_type": "code",
      "metadata": {
        "id": "usucWPqaztI6",
        "colab": {
          "base_uri": "https://localhost:8080/",
          "height": 218
        },
        "outputId": "a70f0e4b-0ae0-4667-8823-e0bd2570269b"
      },
      "source": [
        "from sklearn.preprocessing import LabelEncoder\n",
        "le = LabelEncoder()\n",
        "y=le.fit_transform(all_label)\n",
        "classes= list(le.classes_)"
      ],
      "execution_count": null,
      "outputs": [
        {
          "output_type": "error",
          "ename": "NameError",
          "evalue": "ignored",
          "traceback": [
            "\u001b[0;31m---------------------------------------------------------------------------\u001b[0m",
            "\u001b[0;31mNameError\u001b[0m                                 Traceback (most recent call last)",
            "\u001b[0;32m<ipython-input-62-65783a8790bd>\u001b[0m in \u001b[0;36m<module>\u001b[0;34m()\u001b[0m\n\u001b[1;32m      1\u001b[0m \u001b[0;32mfrom\u001b[0m \u001b[0msklearn\u001b[0m\u001b[0;34m.\u001b[0m\u001b[0mpreprocessing\u001b[0m \u001b[0;32mimport\u001b[0m \u001b[0mLabelEncoder\u001b[0m\u001b[0;34m\u001b[0m\u001b[0;34m\u001b[0m\u001b[0m\n\u001b[1;32m      2\u001b[0m \u001b[0mle\u001b[0m \u001b[0;34m=\u001b[0m \u001b[0mLabelEncoder\u001b[0m\u001b[0;34m(\u001b[0m\u001b[0;34m)\u001b[0m\u001b[0;34m\u001b[0m\u001b[0;34m\u001b[0m\u001b[0m\n\u001b[0;32m----> 3\u001b[0;31m \u001b[0my\u001b[0m\u001b[0;34m=\u001b[0m\u001b[0mle\u001b[0m\u001b[0;34m.\u001b[0m\u001b[0mfit_transform\u001b[0m\u001b[0;34m(\u001b[0m\u001b[0mall_label\u001b[0m\u001b[0;34m)\u001b[0m\u001b[0;34m\u001b[0m\u001b[0;34m\u001b[0m\u001b[0m\n\u001b[0m\u001b[1;32m      4\u001b[0m \u001b[0mclasses\u001b[0m\u001b[0;34m=\u001b[0m \u001b[0mlist\u001b[0m\u001b[0;34m(\u001b[0m\u001b[0mle\u001b[0m\u001b[0;34m.\u001b[0m\u001b[0mclasses_\u001b[0m\u001b[0;34m)\u001b[0m\u001b[0;34m\u001b[0m\u001b[0;34m\u001b[0m\u001b[0m\n",
            "\u001b[0;31mNameError\u001b[0m: name 'all_label' is not defined"
          ]
        }
      ]
    },
    {
      "cell_type": "code",
      "metadata": {
        "id": "W62MBYjOz5e8"
      },
      "source": [
        "from keras.utils import np_utils\n",
        "y=np_utils.to_categorical(y, num_classes=len(folders))"
      ],
      "execution_count": null,
      "outputs": []
    },
    {
      "cell_type": "code",
      "metadata": {
        "id": "ZTDiYnqp0IH4"
      },
      "source": [
        "all_wave = np.array(all_wave).reshape(-1,8000,1)"
      ],
      "execution_count": null,
      "outputs": []
    },
    {
      "cell_type": "code",
      "metadata": {
        "id": "Afu-IBpVz4CJ"
      },
      "source": [
        "del all_label"
      ],
      "execution_count": null,
      "outputs": []
    },
    {
      "cell_type": "code",
      "metadata": {
        "id": "MkY7B4X-0TU-"
      },
      "source": [
        "from sklearn.model_selection import train_test_split\n",
        "x_tr, x_val, y_tr, y_val = train_test_split(np.array(all_wave),np.array(y),stratify=y,test_size = 0.2,random_state=777,shuffle=True)"
      ],
      "execution_count": null,
      "outputs": []
    },
    {
      "cell_type": "code",
      "metadata": {
        "colab": {
          "base_uri": "https://localhost:8080/"
        },
        "id": "EJqy_jRER0n9",
        "outputId": "6821f8f2-2abc-4168-81d9-811d514e777a"
      },
      "source": [
        "len(x_tr[0])\n",
        "print(y_tr[0])"
      ],
      "execution_count": null,
      "outputs": [
        {
          "output_type": "stream",
          "text": [
            "[0. 0. 1. 0. 0. 0. 0. 0. 0. 0. 0. 0. 0. 0. 0. 0. 0. 0. 0. 0. 0. 0. 0. 0.\n",
            " 0. 0. 0. 0. 0. 0. 0. 0. 0. 0. 0.]\n"
          ],
          "name": "stdout"
        }
      ]
    },
    {
      "cell_type": "code",
      "metadata": {
        "colab": {
          "base_uri": "https://localhost:8080/"
        },
        "id": "AntMMk960iz3",
        "outputId": "cddc723d-2f5c-4604-cfcc-5abfe2cfb89f"
      },
      "source": [
        "from keras.layers import Dense, Dropout, Flatten, Conv1D, Input, MaxPooling1D\n",
        "from keras.models import Model\n",
        "from keras.callbacks import EarlyStopping, ModelCheckpoint\n",
        "from keras import backend as K\n",
        "K.clear_session()\n",
        "\n",
        "inputs = Input(shape=(8000,1))\n",
        "\n",
        "#First Conv1D layer\n",
        "conv = Conv1D(8,13, padding='valid', activation='relu', strides=1)(inputs)\n",
        "conv = MaxPooling1D(3)(conv)\n",
        "conv = Dropout(0.3)(conv)\n",
        "\n",
        "#Second Conv1D layer\n",
        "conv = Conv1D(16, 11, padding='valid', activation='relu', strides=1)(conv)\n",
        "conv = MaxPooling1D(3)(conv)\n",
        "conv = Dropout(0.3)(conv)\n",
        "\n",
        "#Third Conv1D layer\n",
        "conv = Conv1D(32, 9, padding='valid', activation='relu', strides=1)(conv)\n",
        "conv = MaxPooling1D(3)(conv)\n",
        "conv = Dropout(0.3)(conv)\n",
        "\n",
        "#Fourth Conv1D layer\n",
        "conv = Conv1D(64, 7, padding='valid', activation='relu', strides=1)(conv)\n",
        "conv = MaxPooling1D(3)(conv)\n",
        "conv = Dropout(0.3)(conv)\n",
        "\n",
        "#Flatten layer\n",
        "conv = Flatten()(conv)\n",
        "\n",
        "#Dense Layer 1\n",
        "conv = Dense(256, activation='relu')(conv)\n",
        "conv = Dropout(0.3)(conv)\n",
        "\n",
        "#Dense Layer 2\n",
        "conv = Dense(128, activation='relu')(conv)\n",
        "conv = Dropout(0.3)(conv)\n",
        "\n",
        "outputs = Dense(len(folders), activation='softmax')(conv)\n",
        "\n",
        "model = Model(inputs, outputs)\n",
        "model.summary()"
      ],
      "execution_count": null,
      "outputs": [
        {
          "output_type": "stream",
          "text": [
            "Model: \"model\"\n",
            "_________________________________________________________________\n",
            "Layer (type)                 Output Shape              Param #   \n",
            "=================================================================\n",
            "input_1 (InputLayer)         [(None, 8000, 1)]         0         \n",
            "_________________________________________________________________\n",
            "conv1d (Conv1D)              (None, 7988, 8)           112       \n",
            "_________________________________________________________________\n",
            "max_pooling1d (MaxPooling1D) (None, 2662, 8)           0         \n",
            "_________________________________________________________________\n",
            "dropout (Dropout)            (None, 2662, 8)           0         \n",
            "_________________________________________________________________\n",
            "conv1d_1 (Conv1D)            (None, 2652, 16)          1424      \n",
            "_________________________________________________________________\n",
            "max_pooling1d_1 (MaxPooling1 (None, 884, 16)           0         \n",
            "_________________________________________________________________\n",
            "dropout_1 (Dropout)          (None, 884, 16)           0         \n",
            "_________________________________________________________________\n",
            "conv1d_2 (Conv1D)            (None, 876, 32)           4640      \n",
            "_________________________________________________________________\n",
            "max_pooling1d_2 (MaxPooling1 (None, 292, 32)           0         \n",
            "_________________________________________________________________\n",
            "dropout_2 (Dropout)          (None, 292, 32)           0         \n",
            "_________________________________________________________________\n",
            "conv1d_3 (Conv1D)            (None, 286, 64)           14400     \n",
            "_________________________________________________________________\n",
            "max_pooling1d_3 (MaxPooling1 (None, 95, 64)            0         \n",
            "_________________________________________________________________\n",
            "dropout_3 (Dropout)          (None, 95, 64)            0         \n",
            "_________________________________________________________________\n",
            "flatten (Flatten)            (None, 6080)              0         \n",
            "_________________________________________________________________\n",
            "dense (Dense)                (None, 256)               1556736   \n",
            "_________________________________________________________________\n",
            "dropout_4 (Dropout)          (None, 256)               0         \n",
            "_________________________________________________________________\n",
            "dense_1 (Dense)              (None, 128)               32896     \n",
            "_________________________________________________________________\n",
            "dropout_5 (Dropout)          (None, 128)               0         \n",
            "_________________________________________________________________\n",
            "dense_2 (Dense)              (None, 35)                4515      \n",
            "=================================================================\n",
            "Total params: 1,614,723\n",
            "Trainable params: 1,614,723\n",
            "Non-trainable params: 0\n",
            "_________________________________________________________________\n"
          ],
          "name": "stdout"
        }
      ]
    },
    {
      "cell_type": "code",
      "metadata": {
        "id": "M2yTmQ7N0ru3"
      },
      "source": [
        "model.compile(loss='categorical_crossentropy',optimizer='adam',metrics=['accuracy'])"
      ],
      "execution_count": null,
      "outputs": []
    },
    {
      "cell_type": "code",
      "metadata": {
        "id": "hQ-qpNDH0vCT"
      },
      "source": [
        "es = EarlyStopping(monitor='val_loss', mode='min', verbose=1, patience=10, min_delta=0.0001) \n",
        "mc = ModelCheckpoint('best_model.hdf5', monitor='val_acc', verbose=1, save_best_only=True, mode='max')"
      ],
      "execution_count": null,
      "outputs": []
    },
    {
      "cell_type": "code",
      "metadata": {
        "colab": {
          "base_uri": "https://localhost:8080/"
        },
        "id": "qzTaqTki0ym8",
        "outputId": "6a8632cc-5fba-4fba-f53f-6cc20b38ab16"
      },
      "source": [
        "history=model.fit(x_tr, y_tr ,epochs=100, callbacks=[es,mc], batch_size=32, validation_data=(x_val,y_val))"
      ],
      "execution_count": null,
      "outputs": [
        {
          "output_type": "stream",
          "text": [
            "Epoch 1/100\n",
            "5023/5023 [==============================] - 635s 123ms/step - loss: 2.1582 - accuracy: 0.3502 - val_loss: 0.4285 - val_accuracy: 0.8681\n",
            "WARNING:tensorflow:Can save best model only with val_acc available, skipping.\n",
            "Epoch 2/100\n",
            "5023/5023 [==============================] - 609s 121ms/step - loss: 0.6712 - accuracy: 0.7773 - val_loss: 0.1666 - val_accuracy: 0.9464\n",
            "WARNING:tensorflow:Can save best model only with val_acc available, skipping.\n",
            "Epoch 3/100\n",
            "5023/5023 [==============================] - 612s 122ms/step - loss: 0.4271 - accuracy: 0.8561 - val_loss: 0.1151 - val_accuracy: 0.9633\n",
            "WARNING:tensorflow:Can save best model only with val_acc available, skipping.\n",
            "Epoch 4/100\n",
            "5023/5023 [==============================] - 616s 123ms/step - loss: 0.3230 - accuracy: 0.8928 - val_loss: 0.0683 - val_accuracy: 0.9803\n",
            "WARNING:tensorflow:Can save best model only with val_acc available, skipping.\n",
            "Epoch 5/100\n",
            "5023/5023 [==============================] - 630s 125ms/step - loss: 0.2717 - accuracy: 0.9108 - val_loss: 0.0508 - val_accuracy: 0.9831\n",
            "WARNING:tensorflow:Can save best model only with val_acc available, skipping.\n",
            "Epoch 6/100\n",
            "5023/5023 [==============================] - 634s 126ms/step - loss: 0.2407 - accuracy: 0.9212 - val_loss: 0.0340 - val_accuracy: 0.9899\n",
            "WARNING:tensorflow:Can save best model only with val_acc available, skipping.\n",
            "Epoch 7/100\n",
            "5023/5023 [==============================] - 628s 125ms/step - loss: 0.2195 - accuracy: 0.9288 - val_loss: 0.0264 - val_accuracy: 0.9918\n",
            "WARNING:tensorflow:Can save best model only with val_acc available, skipping.\n",
            "Epoch 8/100\n",
            "5023/5023 [==============================] - 630s 125ms/step - loss: 0.2078 - accuracy: 0.9336 - val_loss: 0.0228 - val_accuracy: 0.9907\n",
            "WARNING:tensorflow:Can save best model only with val_acc available, skipping.\n",
            "Epoch 9/100\n",
            "5023/5023 [==============================] - 642s 128ms/step - loss: 0.1947 - accuracy: 0.9393 - val_loss: 0.0178 - val_accuracy: 0.9955\n",
            "WARNING:tensorflow:Can save best model only with val_acc available, skipping.\n",
            "Epoch 10/100\n",
            "5023/5023 [==============================] - 639s 127ms/step - loss: 0.1860 - accuracy: 0.9415 - val_loss: 0.0201 - val_accuracy: 0.9948\n",
            "WARNING:tensorflow:Can save best model only with val_acc available, skipping.\n",
            "Epoch 11/100\n",
            "5023/5023 [==============================] - 636s 127ms/step - loss: 0.1794 - accuracy: 0.9450 - val_loss: 0.0114 - val_accuracy: 0.9971\n",
            "WARNING:tensorflow:Can save best model only with val_acc available, skipping.\n",
            "Epoch 12/100\n",
            "5023/5023 [==============================] - 643s 128ms/step - loss: 0.1686 - accuracy: 0.9490 - val_loss: 0.0123 - val_accuracy: 0.9966\n",
            "WARNING:tensorflow:Can save best model only with val_acc available, skipping.\n",
            "Epoch 13/100\n",
            "5023/5023 [==============================] - 632s 126ms/step - loss: 0.1635 - accuracy: 0.9498 - val_loss: 0.0165 - val_accuracy: 0.9949\n",
            "WARNING:tensorflow:Can save best model only with val_acc available, skipping.\n",
            "Epoch 14/100\n",
            "5023/5023 [==============================] - 652s 130ms/step - loss: 0.1678 - accuracy: 0.9497 - val_loss: 0.0121 - val_accuracy: 0.9961\n",
            "WARNING:tensorflow:Can save best model only with val_acc available, skipping.\n",
            "Epoch 15/100\n",
            "5023/5023 [==============================] - 652s 130ms/step - loss: 0.1564 - accuracy: 0.9527 - val_loss: 0.0127 - val_accuracy: 0.9970\n",
            "WARNING:tensorflow:Can save best model only with val_acc available, skipping.\n",
            "Epoch 16/100\n",
            "5023/5023 [==============================] - 648s 129ms/step - loss: 0.1509 - accuracy: 0.9548 - val_loss: 0.0101 - val_accuracy: 0.9976\n",
            "WARNING:tensorflow:Can save best model only with val_acc available, skipping.\n",
            "Epoch 17/100\n",
            "5023/5023 [==============================] - 634s 126ms/step - loss: 0.1500 - accuracy: 0.9548 - val_loss: 0.0083 - val_accuracy: 0.9969\n",
            "WARNING:tensorflow:Can save best model only with val_acc available, skipping.\n",
            "Epoch 18/100\n",
            "5023/5023 [==============================] - 649s 129ms/step - loss: 0.1519 - accuracy: 0.9559 - val_loss: 0.0096 - val_accuracy: 0.9977\n",
            "WARNING:tensorflow:Can save best model only with val_acc available, skipping.\n",
            "Epoch 19/100\n",
            "5023/5023 [==============================] - 634s 126ms/step - loss: 0.1503 - accuracy: 0.9553 - val_loss: 0.0074 - val_accuracy: 0.9982\n",
            "WARNING:tensorflow:Can save best model only with val_acc available, skipping.\n",
            "Epoch 20/100\n",
            "5023/5023 [==============================] - 648s 129ms/step - loss: 0.1417 - accuracy: 0.9588 - val_loss: 0.0087 - val_accuracy: 0.9978\n",
            "WARNING:tensorflow:Can save best model only with val_acc available, skipping.\n",
            "Epoch 21/100\n",
            "5023/5023 [==============================] - 647s 129ms/step - loss: 0.1452 - accuracy: 0.9596 - val_loss: 0.0138 - val_accuracy: 0.9965\n",
            "WARNING:tensorflow:Can save best model only with val_acc available, skipping.\n",
            "Epoch 22/100\n",
            "5023/5023 [==============================] - 651s 130ms/step - loss: 0.1424 - accuracy: 0.9595 - val_loss: 0.0062 - val_accuracy: 0.9990\n",
            "WARNING:tensorflow:Can save best model only with val_acc available, skipping.\n",
            "Epoch 23/100\n",
            "5023/5023 [==============================] - 641s 128ms/step - loss: 0.1371 - accuracy: 0.9609 - val_loss: 0.0137 - val_accuracy: 0.9954\n",
            "WARNING:tensorflow:Can save best model only with val_acc available, skipping.\n",
            "Epoch 24/100\n",
            "5023/5023 [==============================] - 647s 129ms/step - loss: 0.1407 - accuracy: 0.9598 - val_loss: 0.0066 - val_accuracy: 0.9984\n",
            "WARNING:tensorflow:Can save best model only with val_acc available, skipping.\n",
            "Epoch 25/100\n",
            "5023/5023 [==============================] - 640s 128ms/step - loss: 0.1376 - accuracy: 0.9609 - val_loss: 0.0061 - val_accuracy: 0.9986\n",
            "WARNING:tensorflow:Can save best model only with val_acc available, skipping.\n",
            "Epoch 26/100\n",
            "5023/5023 [==============================] - 634s 126ms/step - loss: 0.1302 - accuracy: 0.9637 - val_loss: 0.0037 - val_accuracy: 0.9992\n",
            "WARNING:tensorflow:Can save best model only with val_acc available, skipping.\n",
            "Epoch 27/100\n",
            "5023/5023 [==============================] - 641s 128ms/step - loss: 0.1395 - accuracy: 0.9625 - val_loss: 0.0064 - val_accuracy: 0.9989\n",
            "WARNING:tensorflow:Can save best model only with val_acc available, skipping.\n",
            "Epoch 28/100\n",
            "5023/5023 [==============================] - 637s 127ms/step - loss: 0.1281 - accuracy: 0.9636 - val_loss: 0.0059 - val_accuracy: 0.9986\n",
            "WARNING:tensorflow:Can save best model only with val_acc available, skipping.\n",
            "Epoch 29/100\n",
            "5023/5023 [==============================] - 637s 127ms/step - loss: 0.1338 - accuracy: 0.9638 - val_loss: 0.0049 - val_accuracy: 0.9990\n",
            "WARNING:tensorflow:Can save best model only with val_acc available, skipping.\n",
            "Epoch 30/100\n",
            "5023/5023 [==============================] - 644s 128ms/step - loss: 0.1316 - accuracy: 0.9630 - val_loss: 0.0053 - val_accuracy: 0.9987\n",
            "WARNING:tensorflow:Can save best model only with val_acc available, skipping.\n",
            "Epoch 31/100\n",
            "5023/5023 [==============================] - 640s 127ms/step - loss: 0.1308 - accuracy: 0.9636 - val_loss: 0.0067 - val_accuracy: 0.9977\n",
            "WARNING:tensorflow:Can save best model only with val_acc available, skipping.\n",
            "Epoch 32/100\n",
            "5023/5023 [==============================] - 646s 129ms/step - loss: 0.1267 - accuracy: 0.9660 - val_loss: 0.0077 - val_accuracy: 0.9982\n",
            "WARNING:tensorflow:Can save best model only with val_acc available, skipping.\n",
            "Epoch 33/100\n",
            "5023/5023 [==============================] - 646s 129ms/step - loss: 0.1187 - accuracy: 0.9671 - val_loss: 0.0057 - val_accuracy: 0.9982\n",
            "WARNING:tensorflow:Can save best model only with val_acc available, skipping.\n",
            "Epoch 34/100\n",
            "5023/5023 [==============================] - 638s 127ms/step - loss: 0.1302 - accuracy: 0.9635 - val_loss: 0.0057 - val_accuracy: 0.9990\n",
            "WARNING:tensorflow:Can save best model only with val_acc available, skipping.\n",
            "Epoch 35/100\n",
            "5023/5023 [==============================] - 639s 127ms/step - loss: 0.1191 - accuracy: 0.9677 - val_loss: 0.0037 - val_accuracy: 0.9990\n",
            "WARNING:tensorflow:Can save best model only with val_acc available, skipping.\n",
            "Epoch 36/100\n",
            "5023/5023 [==============================] - 643s 128ms/step - loss: 0.1243 - accuracy: 0.9668 - val_loss: 0.0041 - val_accuracy: 0.9998\n",
            "WARNING:tensorflow:Can save best model only with val_acc available, skipping.\n",
            "Epoch 00036: early stopping\n"
          ],
          "name": "stdout"
        }
      ]
    },
    {
      "cell_type": "code",
      "metadata": {
        "colab": {
          "base_uri": "https://localhost:8080/",
          "height": 265
        },
        "id": "pI64y3fl04Gx",
        "outputId": "9b101b28-e871-4b4f-aaa0-19faf4264876"
      },
      "source": [
        "from matplotlib import pyplot \n",
        "pyplot.plot(history.history['loss'], label='train') \n",
        "pyplot.plot(history.history['val_loss'], label='test') \n",
        "pyplot.legend() \n",
        "pyplot.show()"
      ],
      "execution_count": null,
      "outputs": [
        {
          "output_type": "display_data",
          "data": {
            "image/png": "[encoded data removed]",
            "text/plain": [
              "<Figure size 432x288 with 1 Axes>"
            ]
          },
          "metadata": {
            "tags": [],
            "needs_background": "light"
          }
        }
      ]
    },
    {
      "cell_type": "markdown",
      "metadata": {
        "id": "j4N7aGOGTU8r"
      },
      "source": [
        "**Testing a sample from training**"
      ]
    },
    {
      "cell_type": "code",
      "metadata": {
        "id": "1ADyZ5uWTTRU"
      },
      "source": [
        "all_wave = np.array(x_tr[1]).reshape(-1,8000,1)"
      ],
      "execution_count": null,
      "outputs": []
    },
    {
      "cell_type": "code",
      "metadata": {
        "colab": {
          "base_uri": "https://localhost:8080/"
        },
        "id": "dtw-DALiSNX9",
        "outputId": "f36e6215-34a2-4d3b-db47-31a055b45fc3"
      },
      "source": [
        "y_prob = model.predict(all_wave)\n",
        "y_classes = y_prob.argmax(axis=-1)\n",
        "y_classes"
      ],
      "execution_count": null,
      "outputs": [
        {
          "output_type": "execute_result",
          "data": {
            "text/plain": [
              "array([14])"
            ]
          },
          "metadata": {
            "tags": []
          },
          "execution_count": 18
        }
      ]
    },
    {
      "cell_type": "code",
      "metadata": {
        "colab": {
          "base_uri": "https://localhost:8080/"
        },
        "id": "AsfDmttuVbiF",
        "outputId": "1a610205-d39b-40e7-bf81-51f390a48fac"
      },
      "source": [
        "print(classes[14])"
      ],
      "execution_count": null,
      "outputs": [
        {
          "output_type": "stream",
          "text": [
            "else\n"
          ],
          "name": "stdout"
        }
      ]
    },
    {
      "cell_type": "markdown",
      "metadata": {
        "id": "PnVZ14QXUrg_"
      },
      "source": [
        "## Predicting test samples i.e with voice ids > 50"
      ]
    },
    {
      "cell_type": "code",
      "metadata": {
        "colab": {
          "base_uri": "https://localhost:8080/"
        },
        "id": "vX_WHzXpU0oH",
        "outputId": "f94da312-6bf3-4d96-cb24-58d65599ff7f"
      },
      "source": [
        "predict_wave = []\n",
        "true_label = []\n",
        "\n",
        "folders = [\"False\",\"await\",\"else\",\"import\",\"pass\",\"None\",\"break\",\"except\",\"in\",\"raise\",\"True\",\n",
        "            \"class\",\"finally\",\"is\",\"return\",\"and\",\"continue\",\"for\",\"lambda\",\"try\",\"as\",\"def\",\n",
        "            \"from\",\"nonlocal\",\"while\",\"assert\",\"del\",\"global\",\"not\",\"with\",\"async\",\"elif\",\"if\",\"or\",\"yield\"]\n",
        "\n",
        "for folder in folders:\n",
        "  print(folder)\n",
        "  with open('/content/sample_data/backup_command_level/'+folder, 'rb') as f:\n",
        "      pickle_obj_dict = pickle.load(f)\n",
        "      current_label_waves = pickle_obj_dict['current_label_waves']\n",
        "      current_label_filenames = pickle_obj_dict['current_label_filenames']\n",
        "\n",
        "      temp_current_wave = []\n",
        "      for filename in current_label_filenames:\n",
        "        if int(filename.split('_')[2].split('.')[0]) >= 50:\n",
        "\n",
        "          index = current_label_filenames.index(filename)\n",
        "          temp_current_wave.append(current_label_waves[index])\n",
        "\n",
        "      predict_wave += temp_current_wave\n",
        "      true_label += ([folder] * len(temp_current_wave))"
      ],
      "execution_count": null,
      "outputs": [
        {
          "output_type": "stream",
          "text": [
            "False\n",
            "await\n",
            "else\n",
            "import\n",
            "pass\n",
            "None\n",
            "break\n",
            "except\n",
            "in\n",
            "raise\n",
            "True\n",
            "class\n",
            "finally\n",
            "is\n",
            "return\n",
            "and\n",
            "continue\n",
            "for\n",
            "lambda\n",
            "try\n",
            "as\n",
            "def\n",
            "from\n",
            "nonlocal\n",
            "while\n",
            "assert\n",
            "del\n",
            "global\n",
            "not\n",
            "with\n",
            "async\n",
            "elif\n",
            "if\n",
            "or\n",
            "yield\n"
          ],
          "name": "stdout"
        }
      ]
    },
    {
      "cell_type": "code",
      "metadata": {
        "id": "Vs1Je9LfU0zl"
      },
      "source": [
        "predict_wave = np.array(predict_wave).reshape(-1,8000,1)"
      ],
      "execution_count": null,
      "outputs": []
    },
    {
      "cell_type": "code",
      "metadata": {
        "id": "R9_q4wYtVdM7"
      },
      "source": [
        "y_prob = model.predict(predict_wave)\n",
        "y_classes = y_prob.argmax(axis=-1)\n"
      ],
      "execution_count": null,
      "outputs": []
    },
    {
      "cell_type": "code",
      "metadata": {
        "id": "bJVARZzkVde1"
      },
      "source": [
        "y_classes = list(y_classes)"
      ],
      "execution_count": null,
      "outputs": []
    },
    {
      "cell_type": "code",
      "metadata": {
        "id": "kuHmuOhXXogb"
      },
      "source": [
        "y_classes_veb = [classes[x] for x in y_classes]"
      ],
      "execution_count": null,
      "outputs": []
    },
    {
      "cell_type": "code",
      "metadata": {
        "id": "6VuE2F_RYkD_"
      },
      "source": [
        "classes_compared  = [i for i, j in zip(true_label, y_classes_veb) if str(i) == str(j)]"
      ],
      "execution_count": null,
      "outputs": []
    },
    {
      "cell_type": "code",
      "metadata": {
        "id": "HSfKTMInZBh0"
      },
      "source": [
        "count = 0\n",
        "for i in range(0,len(y_classes_veb)):\n",
        "  if y_classes_veb[i] == true_label[i]:\n",
        "    count += 1"
      ],
      "execution_count": null,
      "outputs": []
    },
    {
      "cell_type": "code",
      "metadata": {
        "colab": {
          "base_uri": "https://localhost:8080/"
        },
        "id": "SVq3t5AxbWey",
        "outputId": "4e95faf0-dbb0-4f03-c6e2-c0c2b313fe4d"
      },
      "source": [
        "accuracy = (count/len(y_classes_veb))*100\n",
        "accuracy"
      ],
      "execution_count": null,
      "outputs": [
        {
          "output_type": "execute_result",
          "data": {
            "text/plain": [
              "68.33092542194447"
            ]
          },
          "metadata": {
            "tags": []
          },
          "execution_count": 59
        }
      ]
    },
    {
      "cell_type": "markdown",
      "metadata": {
        "id": "bonXYap48DZm"
      },
      "source": [
        "## Fixing my audio chunks with padding"
      ]
    },
    {
      "cell_type": "code",
      "metadata": {
        "id": "hJgxr2afrNPi"
      },
      "source": [
        "frames,rate,duration = audio_file_props('/content/chunk0.wav')\n",
        "newAudio = AudioSegment.from_wav('/content/chunk0.wav')"
      ],
      "execution_count": null,
      "outputs": []
    },
    {
      "cell_type": "code",
      "metadata": {
        "colab": {
          "base_uri": "https://localhost:8080/"
        },
        "id": "4t0q8sfU7fdg",
        "outputId": "c17609fb-f4cb-446b-9b6d-829cb1e3a44d"
      },
      "source": [
        "duration"
      ],
      "execution_count": null,
      "outputs": [
        {
          "output_type": "execute_result",
          "data": {
            "text/plain": [
              "0.6940136054421768"
            ]
          },
          "metadata": {
            "tags": []
          },
          "execution_count": 23
        }
      ]
    },
    {
      "cell_type": "code",
      "metadata": {
        "id": "AiH70e4E7dUz"
      },
      "source": [
        "if duration > 1:\n",
        "    final_audio = newAudio[0:1000]"
      ],
      "execution_count": null,
      "outputs": []
    },
    {
      "cell_type": "code",
      "metadata": {
        "id": "htUbCve47i6f"
      },
      "source": [
        "if duration < 1:\n",
        "  missing = (1- duration)*1000\n",
        "  missing_segment = AudioSegment.silent(duration=missing)\n",
        "  final_audio = newAudio + missing_segment"
      ],
      "execution_count": null,
      "outputs": []
    },
    {
      "cell_type": "code",
      "metadata": {
        "colab": {
          "base_uri": "https://localhost:8080/"
        },
        "id": "AKcCsYu57-Qo",
        "outputId": "047ec45f-8907-4ac4-c38f-f399f5891970"
      },
      "source": [
        "final_audio.export('/content/chunk0_modified.wav', format=\"wav\")"
      ],
      "execution_count": null,
      "outputs": [
        {
          "output_type": "execute_result",
          "data": {
            "text/plain": [
              "<_io.BufferedRandom name='/content/chunk0_modified.wav'>"
            ]
          },
          "metadata": {
            "tags": []
          },
          "execution_count": 25
        }
      ]
    },
    {
      "cell_type": "markdown",
      "metadata": {
        "id": "8iA5usgb9WNR"
      },
      "source": [
        "## Preprocessing new audio and predicting"
      ]
    },
    {
      "cell_type": "code",
      "metadata": {
        "id": "DFoFyv0o8mms"
      },
      "source": [
        "samples, sample_rate = librosa.load('/content/chunk0_modified.wav', sr = 16000)\n",
        "samples = librosa.resample(samples, sample_rate, 8000)"
      ],
      "execution_count": null,
      "outputs": []
    },
    {
      "cell_type": "code",
      "metadata": {
        "id": "k20tyyQp83e1"
      },
      "source": [
        "all_wave = np.array([samples]).reshape(-1,8000,1)"
      ],
      "execution_count": null,
      "outputs": []
    },
    {
      "cell_type": "code",
      "metadata": {
        "colab": {
          "base_uri": "https://localhost:8080/"
        },
        "id": "6_TGfSQ69bp6",
        "outputId": "12f16388-3237-4925-ba41-e2ace15c29da"
      },
      "source": [
        "y_prob = model.predict(all_wave)\n",
        "y_classes = y_prob.argmax(axis=-1)\n",
        "y_classes"
      ],
      "execution_count": null,
      "outputs": [
        {
          "output_type": "execute_result",
          "data": {
            "text/plain": [
              "array([7])"
            ]
          },
          "metadata": {
            "tags": []
          },
          "execution_count": 123
        }
      ]
    },
    {
      "cell_type": "code",
      "metadata": {
        "colab": {
          "base_uri": "https://localhost:8080/",
          "height": 293
        },
        "id": "XH_EOiHSQWqW",
        "outputId": "8abf2993-12df-44ab-c875-2e2cd47fbf0d"
      },
      "source": [
        "train_audio_path = '/content/'\n",
        "samples, sample_rate = librosa.load(train_audio_path+'chunk0_modified.wav', sr = 8000)\n",
        "fig = plt.figure(figsize=(14, 8))\n",
        "ax1 = fig.add_subplot(211)\n",
        "ax1.set_title('Raw wave of ' + 'chunk0_modified.wav')\n",
        "ax1.set_xlabel('time')\n",
        "ax1.set_ylabel('Amplitude')\n",
        "ax1.plot(np.linspace(0, sample_rate/len(samples), sample_rate), samples)"
      ],
      "execution_count": null,
      "outputs": [
        {
          "output_type": "execute_result",
          "data": {
            "text/plain": [
              "[<matplotlib.lines.Line2D at 0x7f51b6e37dd0>]"
            ]
          },
          "metadata": {
            "tags": []
          },
          "execution_count": 26
        },
        {
          "output_type": "display_data",
          "data": {
            "image/png": "[encoded data removed]",
            "text/plain": [
              "<Figure size 1008x576 with 1 Axes>"
            ]
          },
          "metadata": {
            "tags": [],
            "needs_background": "light"
          }
        }
      ]
    },
    {
      "cell_type": "code",
      "metadata": {
        "colab": {
          "base_uri": "https://localhost:8080/"
        },
        "id": "U9pxBIAkRXzR",
        "outputId": "0d16bcc6-5c82-4382-a50a-af3f88861071"
      },
      "source": [
        "len(np.linspace(0, sample_rate/len(samples), sample_rate))"
      ],
      "execution_count": null,
      "outputs": [
        {
          "output_type": "execute_result",
          "data": {
            "text/plain": [
              "8000"
            ]
          },
          "metadata": {
            "tags": []
          },
          "execution_count": 12
        }
      ]
    },
    {
      "cell_type": "code",
      "metadata": {
        "id": "Dr76H94TRY8_"
      },
      "source": [
        "samples, sample_rate = librosa.load(train_audio_path+'chunk0.wav', sr = 8000)"
      ],
      "execution_count": null,
      "outputs": []
    },
    {
      "cell_type": "code",
      "metadata": {
        "colab": {
          "base_uri": "https://localhost:8080/"
        },
        "id": "B3cBk3ZaTLOj",
        "outputId": "5a9b7ded-495f-44d7-99e0-8be8f382f58b"
      },
      "source": [
        "len(samples)"
      ],
      "execution_count": null,
      "outputs": [
        {
          "output_type": "execute_result",
          "data": {
            "text/plain": [
              "5553"
            ]
          },
          "metadata": {
            "tags": []
          },
          "execution_count": 16
        }
      ]
    }
  ]
}